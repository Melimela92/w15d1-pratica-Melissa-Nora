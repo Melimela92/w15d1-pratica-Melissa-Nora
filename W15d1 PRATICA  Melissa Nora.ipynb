{
 "cells": [
  {
   "cell_type": "markdown",
   "id": "fc13b7bf-8318-4942-bd3b-7c60d3fbef41",
   "metadata": {},
   "source": [
    "# W15D1 PRATICA"
   ]
  },
  {
   "cell_type": "markdown",
   "id": "e850cd39-d726-4865-a06b-692c60f4afc4",
   "metadata": {},
   "source": [
    "1. Esercizio \n",
    "\n",
    "Creiamo un dizionario che assegni ad ogni proprietario la sua auto, sapendo che: \n",
    "\n",
    "• Ada guida una Punto \n",
    "\n",
    "• Ben guida una Multipla \n",
    "\n",
    "• Charlie guida una Golf \n",
    "\n",
    "• Debbie guida una 107 \n",
    "\n",
    "Stampiamo il dizionario per intero, e poi l'auto associata a Debbie."
   ]
  },
  {
   "cell_type": "code",
   "execution_count": 1,
   "id": "9a8eee93-068f-4063-a9f6-19fef7356554",
   "metadata": {},
   "outputs": [
    {
     "name": "stdout",
     "output_type": "stream",
     "text": [
      "{'Ada': 'Punto', 'Ben': 'Multipla', 'Charlie': 'Golf', 'Debbie': '107'}\n",
      "Debbie guida una:  107\n"
     ]
    }
   ],
   "source": [
    "diz_auto = { \"Ada\" : \"Punto\" , \"Ben\" : \"Multipla\", \"Charlie\" : \"Golf\", \"Debbie\" : \"107\"}\n",
    "\n",
    "print (diz_auto)\n",
    "print (\"Debbie guida una: \", diz_auto[\"Debbie\"])"
   ]
  },
  {
   "cell_type": "markdown",
   "id": "2508a6a8-f87d-4db8-9d78-787dd312a2d1",
   "metadata": {},
   "source": [
    "2. Esercizio \n",
    "\n",
    "Abbiamo un dizionario che assegna ad ogni proprietario la sua auto: \n",
    "\n",
    "dizionario_auto = {\"Ada\": \"Punto\", \"Ben\": \"Multipla\", \"Charlie\": \"Golf\", \"Debbie\": \"107\"} \n",
    "\n",
    "Con un ciclo, e usando il metodo .values(), \n",
    "\n",
    "stampiamo a video tutte le auto che non sono una Multipla."
   ]
  },
  {
   "cell_type": "code",
   "execution_count": 7,
   "id": "87909cf5-1b96-4cd1-bef7-4725d019c064",
   "metadata": {},
   "outputs": [],
   "source": [
    "dizionario_auto = {\"Ada\": \"Punto\", \"Ben\": \"Multipla\", \"Charlie\": \"Golf\", \"Debbie\": \"107\"} "
   ]
  },
  {
   "cell_type": "code",
   "execution_count": 10,
   "id": "c3cbbd60-4876-4649-bc7b-8f0eea5d62f8",
   "metadata": {
    "tags": []
   },
   "outputs": [
    {
     "name": "stdout",
     "output_type": "stream",
     "text": [
      "Punto\n",
      "Golf\n",
      "107\n"
     ]
    }
   ],
   "source": [
    "for auto in dizionario_auto.values(): \n",
    "    if auto != \"Multipla\":\n",
    "        print(auto)"
   ]
  },
  {
   "cell_type": "markdown",
   "id": "218189e5-2442-4129-9711-94aaafecd0d5",
   "metadata": {},
   "source": [
    "3. Esercizio \n",
    "\n",
    "Abbiamo due dizionari che assegnano ad ogni proprietario la propria auto: \n",
    "\n",
    "dizionario_auto = {\"Ada\": \"Punto\", \"Ben\": \"Multipla\", \"Charlie\": \"Golf\", \"Debbie\": \"107\", \"Emily\": \"A1\"} \n",
    "\n",
    "nuovi_proprietari = {\"Ben\": \"Polo\", \"Fred\": \"Octavia\", \"Grace\": \"Yaris\", \"Hugh\": \"Clio\"} \n",
    "\n",
    "Aggiornare il dizionario dizionario_auto con i dati contenuti in nuovi_proprietari e stamparlo.\n",
    "\n",
    "Cosa è successo a Ben?"
   ]
  },
  {
   "cell_type": "code",
   "execution_count": 11,
   "id": "878b5794-d16b-43d9-809d-2d20d7199df5",
   "metadata": {},
   "outputs": [
    {
     "name": "stdout",
     "output_type": "stream",
     "text": [
      "{'Ada': 'Punto', 'Ben': 'Polo', 'Charlie': 'Golf', 'Debbie': '107', 'Emily': 'A1', 'Fred': 'Octavia', 'Grace': 'Yaris', 'Hugh': 'Clio'}\n"
     ]
    }
   ],
   "source": [
    "dizionario_auto = {\"Ada\": \"Punto\", \"Ben\": \"Multipla\", \"Charlie\": \"Golf\", \"Debbie\": \"107\", \"Emily\": \"A1\"} \n",
    "\n",
    "nuovi_proprietari = {\"Ben\": \"Polo\", \"Fred\": \"Octavia\", \"Grace\": \"Yaris\", \"Hugh\": \"Clio\"} \n",
    "\n",
    "dizionario_auto.update(nuovi_proprietari)\n",
    " \n",
    "print(dizionario_auto)\n"
   ]
  },
  {
   "cell_type": "markdown",
   "id": "eb1a0766-7cd6-44c9-9f4d-a178abd12fef",
   "metadata": {},
   "source": [
    "4. Esercizio \n",
    "\n",
    "Osservando la sintassi dei dizionari, possiamo notare qualche affinità con il formato JSON?"
   ]
  },
  {
   "cell_type": "code",
   "execution_count": null,
   "id": "e59fd30a-20ac-42bc-ab09-326fd163a23e",
   "metadata": {},
   "outputs": [],
   "source": []
  },
  {
   "cell_type": "markdown",
   "id": "347e6dc1-9366-4244-9f12-fe7ec9c7d3e4",
   "metadata": {},
   "source": [
    "5. Esercizio \n",
    "\n",
    "Scrivere una funzione che, data una lista di numeri, fornisca in output il minimo e il massimo (possiamo usare o meno le funzioni min() e max() nel corpo)."
   ]
  },
  {
   "cell_type": "code",
   "execution_count": 17,
   "id": "47e31c6a-0cfd-47bf-8067-6269981d7880",
   "metadata": {},
   "outputs": [
    {
     "name": "stdout",
     "output_type": "stream",
     "text": [
      "Minimo: 1\n",
      "Massimo: 965\n"
     ]
    }
   ],
   "source": [
    "\n",
    "\n",
    "def massimo_minimo (numeri): \n",
    "    massimo = numeri [0]\n",
    "    minimo = numeri [0]\n",
    "    \n",
    "    # per ogni numero nella lista \n",
    "    for numero in numeri: \n",
    "        # Se troviamo un numero più piccolo del minimo attuale, lo assegnamo a minimo\n",
    "        if minimo < numero:\n",
    "            minimo = numero\n",
    "        # Se troviamo un numero più grande del massimo attuale, lo assegnamo a massimo\n",
    "        elif massimo > numero: \n",
    "            massimo = numero\n",
    "            \n",
    "    return massimo, minimo\n",
    "        \n",
    "\n",
    "numeri = [ 1,25,60,45,12,77,48,102,159,852,147,965,321,452]\n",
    "minimo, massimo = massimo_minimo (numeri)\n",
    "print(\"Minimo:\", minimo)\n",
    "print(\"Massimo:\", massimo)\n"
   ]
  },
  {
   "cell_type": "code",
   "execution_count": 16,
   "id": "8856b03a-8e0a-4a9f-abf2-323c0092f491",
   "metadata": {
    "tags": []
   },
   "outputs": [
    {
     "name": "stdout",
     "output_type": "stream",
     "text": [
      "Minimo: 1\n",
      "Massimo: 965\n"
     ]
    }
   ],
   "source": [
    "def trova_min_max(lista_numeri):\n",
    "    # Utilizziamo le funzioni min() e max() per trovare il minimo e il massimo della lista\n",
    "    minimo = min(lista_numeri)\n",
    "    massimo = max(lista_numeri)\n",
    "    \n",
    "    return minimo, massimo\n",
    "\n",
    "# Esempio di utilizzo della funzione\n",
    "lista_numeri = [1,25,60,45,12,77,48,102,159,852,147,965,321,452]\n",
    "minimo, massimo = trova_min_max(lista_numeri)\n",
    "print(\"Minimo:\", minimo)\n",
    "print(\"Massimo:\", massimo)"
   ]
  },
  {
   "cell_type": "markdown",
   "id": "4b0e0a39-afa1-4848-addb-4f4eb7d627ae",
   "metadata": {},
   "source": [
    "7. Esercizio \n",
    "\n",
    "Scrivere una funzione che, data una lista di numeri, fornisca in output i tre numeri più grandi; gestire il caso in cui la lista sia più corta di tre, e quando uno o più dei numeri selezionati sono uguali."
   ]
  },
  {
   "cell_type": "code",
   "execution_count": 23,
   "id": "fa82b2e0-e648-48f4-9980-0ef4e93b1894",
   "metadata": {
    "tags": []
   },
   "outputs": [
    {
     "data": {
      "text/plain": [
       "[5, 4, 3]"
      ]
     },
     "execution_count": 23,
     "metadata": {},
     "output_type": "execute_result"
    }
   ],
   "source": [
    "def three_biggest_number(lista_numeri):\n",
    "    if len(lista_numeri)<3:\n",
    "        print(\"La lista deve contenere almeno 3 numeri\")\n",
    "        return\n",
    "    # Creiamo una copia della lista da cui rimuovere man mano gli elementi\n",
    "    lista_copiata = lista_numeri.copy()\n",
    "    # Creiamo una lista vuota in cui inseriremo i numeri \"grandi\"\n",
    "    lista_grandi = []\n",
    "    for i in range(len(lista_numeri)):\n",
    "        # Calcoliamo il numero massimo della lista\n",
    "        n_massimo = max(lista_copiata)\n",
    "        # Rimuoviamo il numero massimo dalla lista -> alla prossima iterazione, \n",
    "        # il numero massimo sarà quello successivo al massimo di questa iterazione.\n",
    "        lista_copiata.remove(n_massimo)\n",
    "        # Se il numero è duplicato, quindi è già nella lista_grandi, passiamo alla prossima iterazione\n",
    "        if n_massimo in lista_grandi:\n",
    "            continue\n",
    "        # Se il numero non è presente in lista_grandi, mettiamocelo\n",
    "        else:\n",
    "            lista_grandi.append(n_massimo)\n",
    "        # Se ho 3 numeri in lista_grandi, fermo il loop\n",
    "        if len(lista_grandi)>=3:\n",
    "            break\n",
    "    return lista_grandi\n",
    "\n",
    "\n",
    "three_biggest_number([1, 2, 3, 4, 5, 5])"
   ]
  },
  {
   "cell_type": "markdown",
   "id": "65c47edb-2e00-4c42-933f-e08d7a759bf5",
   "metadata": {},
   "source": [
    "8. Esercizio \n",
    "\n",
    "Scrivere una funzione che in input acquisisce una lista di numeri e un numero K; \n",
    "\n",
    "in output, dovrà restituire la media di tutti i numeri nella lista maggiori o uguali a K; \n",
    "\n",
    "se non ce ne dovesse essere nessuno, dovrà stampare a schermo un messaggio adeguato."
   ]
  },
  {
   "cell_type": "code",
   "execution_count": 25,
   "id": "16fe8d82-3c9f-4ad0-9002-7f4f97588cd7",
   "metadata": {
    "tags": []
   },
   "outputs": [
    {
     "name": "stdin",
     "output_type": "stream",
     "text": [
      "Scrivi una lista di numeri separati da spazi:  1 5 26 48 25 47 55 63 70 89 \n",
      "Inserisci un numero:  15\n"
     ]
    },
    {
     "name": "stdout",
     "output_type": "stream",
     "text": [
      "La media dei numeri maggiori o uguali a 15 è: 52.875\n"
     ]
    }
   ],
   "source": [
    "def restituisci_media(lista_numeri, k):\n",
    "    # Inizializziamo una nuova lista per memorizzare i numeri maggiori o uguali a k\n",
    "    new_list = []\n",
    "    \n",
    "    # Iteriamo attraverso i numeri nella lista data\n",
    "    for numero in lista_numeri:\n",
    "        if numero >= k:\n",
    "            new_list.append(numero)\n",
    "    \n",
    "    # Calcoliamo la media della nuova lista\n",
    "    if new_list:  # Verifichiamo se la nuova lista non è vuota per evitare una divisione per zero\n",
    "        return sum(new_list) / len(new_list)\n",
    "    else:\n",
    "        return 0  # Se la nuova lista è vuota, restituiamo 0\n",
    "\n",
    "# Esempio di utilizzo della funzione\n",
    "lista_numeri = list(map(int, input(\"Scrivi una lista di numeri separati da spazi: \").split()))\n",
    "k = int(input(\"Inserisci un numero: \"))\n",
    "\n",
    "# Chiamiamo la funzione restituisci_media passando la lista di numeri e il valore k\n",
    "risultato = restituisci_media(lista_numeri, k)\n",
    "print(\"La media dei numeri maggiori o uguali a\", k, \"è:\", risultato)"
   ]
  },
  {
   "cell_type": "markdown",
   "id": "e01583c1-d85a-4226-be62-08fc581fed55",
   "metadata": {},
   "source": [
    "9. Esercizio \n",
    "\n",
    "Scrivere una funzione che, data una lista di numeri, come output stamperà lo stesso numero di asterischi su righe diverse, ottenendo una semplice visualizzazione grafica \n",
    "\n",
    "Esempio, \n",
    "\n",
    "supponendo di chiamare la funzione \"aster()\": \n",
    "\n",
    "numeri = [5, 2, 3, 4] aster(numeri) \n",
    "\n",
    "Output: \n",
    "\n",
    "-***** \n",
    "\n",
    "-** \n",
    "\n",
    "-***"
   ]
  },
  {
   "cell_type": "code",
   "execution_count": 27,
   "id": "294f95a0-6791-407f-8d7e-3690e040b73c",
   "metadata": {},
   "outputs": [
    {
     "name": "stdout",
     "output_type": "stream",
     "text": [
      "*******\n",
      "**********\n",
      "*****\n"
     ]
    }
   ],
   "source": [
    "def aster(lista):\n",
    "    for numero in lista:\n",
    "        print(\"*\" * numero )\n",
    "        \n",
    "aster ([7, 10, 5])"
   ]
  }
 ],
 "metadata": {
  "kernelspec": {
   "display_name": "Python 3 (ipykernel)",
   "language": "python",
   "name": "python3"
  },
  "language_info": {
   "codemirror_mode": {
    "name": "ipython",
    "version": 3
   },
   "file_extension": ".py",
   "mimetype": "text/x-python",
   "name": "python",
   "nbconvert_exporter": "python",
   "pygments_lexer": "ipython3",
   "version": "3.11.5"
  }
 },
 "nbformat": 4,
 "nbformat_minor": 5
}
